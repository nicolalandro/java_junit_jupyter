{
 "cells": [
  {
   "cell_type": "markdown",
   "metadata": {},
   "source": [
    "# Installare Junit\n",
    "Come primo step abbiamo bisogno di installare le librerie [junit](https://mvnrepository.com/artifact/junit/junit/4.13.2), [junit-jupyter-engine](https://mvnrepository.com/artifact/org.junit.jupiter/junit-jupiter-engine/5.8.1) e [junit-platform-launcher](https://mvnrepository.com/artifact/org.junit.platform/junit-platform-launcher/1.8.1), prendendole dal [Maven Repository](https://mvnrepository.com).\n",
    "\n",
    "In jupiter lo possiamo fare con il magic command `%maven <maven lib>`"
   ]
  },
  {
   "cell_type": "code",
   "execution_count": 8,
   "metadata": {},
   "outputs": [],
   "source": [
    "%maven junit:junit:4.13.2\n",
    "%maven org.junit.jupiter:junit-jupiter-engine:5.8.1\n",
    "%maven org.junit.platform:junit-platform-launcher:1.8.1"
   ]
  },
  {
   "cell_type": "markdown",
   "metadata": {},
   "source": [
    "##  Junit Esempio Test\n",
    "Ora possiamo procedere a fare gli import necessari."
   ]
  },
  {
   "cell_type": "code",
   "execution_count": 55,
   "metadata": {},
   "outputs": [],
   "source": [
    "import static org.junit.Assert.*;\n",
    "import org.junit.After;\n",
    "import org.junit.Before;\n",
    "import org.junit.Test;"
   ]
  },
  {
   "cell_type": "markdown",
   "metadata": {},
   "source": [
    "Scriviamo una classe di esempio con un test dummy: fa una print e poi un assert equal su una stringa."
   ]
  },
  {
   "cell_type": "code",
   "execution_count": 74,
   "metadata": {},
   "outputs": [],
   "source": [
    "public class JUnitProgram {\n",
    "    @Test\n",
    "    public void test_JUnit() {\n",
    "        System.out.println(\"This is the testcase in this class\");\n",
    "        String str1=\"This is the testcase in this class\";\n",
    "        assertEquals(\"This is the testcase in this class\", str1);\n",
    "    }\n",
    "}"
   ]
  },
  {
   "cell_type": "markdown",
   "metadata": {},
   "source": [
    "## Eseguire i test\n",
    "Per eseguire la classe dentro jupyter avremo bisogno di un oggetto JunitCore e poi una funzione per avere il print di un report sui test. (se si vuole che le print nei test non si vedano su jupyter decommentare il TextListener)"
   ]
  },
  {
   "cell_type": "code",
   "execution_count": 75,
   "metadata": {},
   "outputs": [],
   "source": [
    "import org.junit.runner.JUnitCore;\n",
    "// import org.junit.internal.TextListener;\n",
    "import org.junit.runner.Result;\n",
    "import org.junit.runner.notification.Failure;\n",
    "\n",
    "// junit.addListener(new TextListener(System.out));\n",
    "JUnitCore junit = new JUnitCore();\n",
    "\n",
    "public static void resultReport(Result result) {\n",
    "    System.out.println(\"Finished. Result: Failures: \" +\n",
    "      result.getFailureCount() + \". Ignored: \" +\n",
    "      result.getIgnoreCount() + \". Tests run: \" +\n",
    "      result.getRunCount() + \". Time: \" +\n",
    "      result.getRunTime() + \"ms.\");\n",
    "    for (Failure f : result.getFailures()){\n",
    "        System.out.println(f.getMessage());\n",
    "    }   \n",
    "}"
   ]
  },
  {
   "cell_type": "markdown",
   "metadata": {},
   "source": [
    "Ora possiamo eseguire la nostra classe di test con in metodo `.run`"
   ]
  },
  {
   "cell_type": "code",
   "execution_count": 76,
   "metadata": {},
   "outputs": [
    {
     "name": "stdout",
     "output_type": "stream",
     "text": [
      "This is the testcase in this class\n"
     ]
    }
   ],
   "source": [
    "Result tmp_result = junit.run(JUnitProgram.class);"
   ]
  },
  {
   "cell_type": "markdown",
   "metadata": {},
   "source": [
    "Possiamo anche ottenere un report di come sono andati itest usando la nostra funzione `resultReport`"
   ]
  },
  {
   "cell_type": "code",
   "execution_count": 77,
   "metadata": {},
   "outputs": [
    {
     "name": "stdout",
     "output_type": "stream",
     "text": [
      "Finished. Result: Failures: 0. Ignored: 0. Tests run: 1. Time: 0ms.\n"
     ]
    }
   ],
   "source": [
    "resultReport(tmp_result);"
   ]
  },
  {
   "cell_type": "markdown",
   "metadata": {},
   "source": [
    "Ovviamente possiamo fare il tutto in un unica istruzione nel seguente modo"
   ]
  },
  {
   "cell_type": "code",
   "execution_count": 78,
   "metadata": {},
   "outputs": [
    {
     "name": "stdout",
     "output_type": "stream",
     "text": [
      "This is the testcase in this class\n",
      "Finished. Result: Failures: 0. Ignored: 0. Tests run: 1. Time: 0ms.\n"
     ]
    }
   ],
   "source": [
    "resultReport(junit.run(JUnitProgram.class));"
   ]
  },
  {
   "cell_type": "markdown",
   "metadata": {},
   "source": [
    "# Factorial Example"
   ]
  },
  {
   "cell_type": "code",
   "execution_count": 79,
   "metadata": {},
   "outputs": [],
   "source": [
    "public static int factorial( int n ){\n",
    "        int f = 1;\n",
    "\n",
    "        for(int i = 1; i <=n; i++){\n",
    "            f = f*i;\n",
    "        }\n",
    "        return f;\n",
    "}"
   ]
  },
  {
   "cell_type": "code",
   "execution_count": 80,
   "metadata": {},
   "outputs": [
    {
     "data": {
      "text/plain": [
       "2"
      ]
     },
     "execution_count": 80,
     "metadata": {},
     "output_type": "execute_result"
    }
   ],
   "source": [
    "factorial(2)"
   ]
  },
  {
   "cell_type": "markdown",
   "metadata": {},
   "source": [
    "## Test"
   ]
  },
  {
   "cell_type": "code",
   "execution_count": 85,
   "metadata": {},
   "outputs": [],
   "source": [
    "public class FactorialTestCase {\n",
    "    @Test\n",
    "    public void test_factorial_base() {\n",
    "        int x = factorial(2);\n",
    "        \n",
    "        assertEquals(2, x);\n",
    "    }\n",
    "}"
   ]
  },
  {
   "cell_type": "code",
   "execution_count": 86,
   "metadata": {},
   "outputs": [
    {
     "name": "stdout",
     "output_type": "stream",
     "text": [
      "Finished. Result: Failures: 0. Ignored: 0. Tests run: 1. Time: 0ms.\n"
     ]
    }
   ],
   "source": [
    "resultReport(junit.run(FactorialTestCase.class));"
   ]
  }
 ],
 "metadata": {
  "kernelspec": {
   "display_name": "Java",
   "language": "java",
   "name": "java"
  },
  "language_info": {
   "codemirror_mode": "java",
   "file_extension": ".jshell",
   "mimetype": "text/x-java-source",
   "name": "Java",
   "pygments_lexer": "java",
   "version": "11.0.3+7-Ubuntu-1ubuntu218.04.1"
  }
 },
 "nbformat": 4,
 "nbformat_minor": 2
}
