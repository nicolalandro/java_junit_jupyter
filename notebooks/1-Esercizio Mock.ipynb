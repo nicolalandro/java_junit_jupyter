{
 "cells": [
  {
   "cell_type": "code",
   "execution_count": 2,
   "metadata": {},
   "outputs": [],
   "source": [
    "%maven junit:junit:4.13.2\n",
    "%maven org.junit.jupiter:junit-jupiter-engine:5.8.1\n",
    "%maven org.junit.platform:junit-platform-launcher:1.8.1\n",
    "%maven org.mockito:mockito-all:1.10.19"
   ]
  },
  {
   "cell_type": "code",
   "execution_count": 44,
   "metadata": {},
   "outputs": [],
   "source": [
    "import static org.junit.Assert.*;\n",
    "import org.junit.After;\n",
    "import org.junit.Before;\n",
    "import org.junit.Test;\n",
    "import org.junit.runner.JUnitCore;\n",
    "import org.junit.runner.Result;\n",
    "import org.junit.runner.notification.Failure;\n",
    "import java.util.*;\n",
    "\n",
    "\n",
    "JUnitCore junit = new JUnitCore();\n",
    "\n",
    "public static void resultReport(Result result) {\n",
    "    System.out.println(\"Finished. Result: Failures: \" +\n",
    "      result.getFailureCount() + \". Ignored: \" +\n",
    "      result.getIgnoreCount() + \". Tests run: \" +\n",
    "      result.getRunCount() + \". Time: \" +\n",
    "      result.getRunTime() + \"ms.\");\n",
    "    for (Failure f : result.getFailures()){\n",
    "        System.out.println(f. \tgetTrace());\n",
    "    }   \n",
    "}"
   ]
  },
  {
   "cell_type": "markdown",
   "metadata": {},
   "source": [
    "# Esercizio mock\n",
    "Avete appena implementato la funzione somma iterativa, ma il vostro collega, che doveva implementare la funzione somma base, non ha ancora completato il suo lavoro, come potete scrivere un test?"
   ]
  },
  {
   "cell_type": "code",
   "execution_count": 49,
   "metadata": {},
   "outputs": [],
   "source": [
    "public class Somma {\n",
    "    public Somma(){}\n",
    "    public Integer somma(Integer a, Integer b){return null;}\n",
    "}"
   ]
  },
  {
   "cell_type": "code",
   "execution_count": 52,
   "metadata": {},
   "outputs": [],
   "source": [
    "Somma s = new Somma();\n",
    "s.somma(0, 0);"
   ]
  },
  {
   "cell_type": "code",
   "execution_count": 55,
   "metadata": {},
   "outputs": [],
   "source": [
    "public class SommaIterativa{\n",
    "    private Somma sommatore;\n",
    "    \n",
    "    public SommaIterativa(Somma s){\n",
    "        sommatore = s;\n",
    "    }\n",
    "    \n",
    "    public Integer somma(List<Integer> list){\n",
    "        Integer out = 0;\n",
    "        for (Integer l : list){\n",
    "            out = sommatore.somma(out, l);\n",
    "        }\n",
    "        return out;\n",
    "    }\n",
    "}"
   ]
  },
  {
   "cell_type": "code",
   "execution_count": 75,
   "metadata": {},
   "outputs": [],
   "source": [
    "import static org.mockito.Mockito.*;\n",
    "\n",
    "public class SommatoreIterativoTestCase {\n",
    "    @Test\n",
    "    public void test_somma() {\n",
    "        Somma sMock = mock(Somma.class);\n",
    "        when(sMock.somma(anyInt(), anyInt())).thenReturn(0);\n",
    "        List<Integer> list = Arrays.asList(1, 1);\n",
    "        \n",
    "        SommaIterativa iteraSum = new SommaIterativa(sMock);\n",
    "        Integer out = iteraSum.somma(list);\n",
    "        \n",
    "        verify(sMock, times(2)).somma(anyInt(), anyInt());\n",
    "    }\n",
    "}"
   ]
  },
  {
   "cell_type": "code",
   "execution_count": 76,
   "metadata": {},
   "outputs": [
    {
     "name": "stdout",
     "output_type": "stream",
     "text": [
      "Finished. Result: Failures: 0. Ignored: 0. Tests run: 1. Time: 9ms.\n"
     ]
    }
   ],
   "source": [
    "resultReport(junit.run(SommatoreIterativoTestCase.class));"
   ]
  }
 ],
 "metadata": {
  "kernelspec": {
   "display_name": "Java",
   "language": "java",
   "name": "java"
  },
  "language_info": {
   "codemirror_mode": "java",
   "file_extension": ".jshell",
   "mimetype": "text/x-java-source",
   "name": "Java",
   "pygments_lexer": "java",
   "version": "11.0.3+7-Ubuntu-1ubuntu218.04.1"
  }
 },
 "nbformat": 4,
 "nbformat_minor": 2
}
