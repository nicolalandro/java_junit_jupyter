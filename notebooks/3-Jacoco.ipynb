{
 "cells": [
  {
   "cell_type": "code",
   "execution_count": 2,
   "metadata": {},
   "outputs": [],
   "source": [
    "%maven org.jacoco:org.jacoco.core:0.8.7"
   ]
  },
  {
   "cell_type": "code",
   "execution_count": 3,
   "metadata": {},
   "outputs": [],
   "source": [
    "import java.io.InputStream;\n",
    "import java.io.PrintStream;\n",
    "import java.util.HashMap;\n",
    "import java.util.Map;\n",
    "\n",
    "import org.jacoco.core.analysis.Analyzer;\n",
    "import org.jacoco.core.analysis.CoverageBuilder;\n",
    "import org.jacoco.core.analysis.IClassCoverage;\n",
    "import org.jacoco.core.analysis.ICounter;\n",
    "import org.jacoco.core.data.ExecutionDataStore;\n",
    "import org.jacoco.core.data.SessionInfoStore;\n",
    "import org.jacoco.core.instr.Instrumenter;\n",
    "import org.jacoco.core.runtime.IRuntime;\n",
    "import org.jacoco.core.runtime.LoggerRuntime;\n",
    "import org.jacoco.core.runtime.RuntimeData;"
   ]
  },
  {
   "cell_type": "markdown",
   "metadata": {},
   "source": [
    "Create a target class"
   ]
  },
  {
   "cell_type": "code",
   "execution_count": 31,
   "metadata": {},
   "outputs": [],
   "source": [
    "public static class TestTarget implements Runnable {\n",
    "\n",
    "    public void run() {\n",
    "            isPrime(7);\n",
    "    }\n",
    "\n",
    "    private boolean isPrime(final int n) {\n",
    "        for (int i = 2; i * i <= n; i++) {\n",
    "            if ((n ^ i) == 0) {\n",
    "                return false;\n",
    "            }\n",
    "        }\n",
    "        return true;\n",
    "    }\n",
    "\n",
    "}"
   ]
  },
  {
   "cell_type": "markdown",
   "metadata": {},
   "source": [
    "Use a class from https://www.jacoco.org/jacoco/trunk/doc/api.html"
   ]
  },
  {
   "cell_type": "code",
   "execution_count": 32,
   "metadata": {},
   "outputs": [],
   "source": [
    "public final class CoreTutorial {\n",
    "    public static class MemoryClassLoader extends ClassLoader {\n",
    "\n",
    "        private final Map<String, byte[]> definitions = new HashMap<String, byte[]>();\n",
    "\n",
    "        public void addDefinition(final String name, final byte[] bytes) {\n",
    "            definitions.put(name, bytes);\n",
    "        }\n",
    "\n",
    "        @Override\n",
    "        protected Class<?> loadClass(final String name, final boolean resolve)\n",
    "                throws ClassNotFoundException {\n",
    "            final byte[] bytes = definitions.get(name);\n",
    "            if (bytes != null) {\n",
    "                return defineClass(name, bytes, 0, bytes.length);\n",
    "            }\n",
    "            return super.loadClass(name, resolve);\n",
    "        }\n",
    "\n",
    "    }\n",
    "\n",
    "    private final PrintStream out;\n",
    "\n",
    "    public CoreTutorial(final PrintStream out) {\n",
    "        this.out = out;\n",
    "    }\n",
    "\n",
    "    public void execute(Class<?> objClass) throws Exception {\n",
    "        final String targetName = objClass.getName();\n",
    "        final IRuntime runtime = new LoggerRuntime();\n",
    "        final Instrumenter instr = new Instrumenter(runtime);\n",
    "        InputStream original = getTargetClass(targetName);\n",
    "        final byte[] instrumented = instr.instrument(original, targetName);\n",
    "        original.close();\n",
    "\n",
    "        final RuntimeData data = new RuntimeData();\n",
    "        runtime.startup(data);\n",
    "\n",
    "        final MemoryClassLoader memoryClassLoader = new MemoryClassLoader();\n",
    "        memoryClassLoader.addDefinition(targetName, instrumented);\n",
    "        final Class<?> targetClass = memoryClassLoader.loadClass(targetName);\n",
    "\n",
    "        final Runnable targetInstance = (Runnable) targetClass.newInstance();\n",
    "        targetInstance.run();\n",
    "\n",
    "        final ExecutionDataStore executionData = new ExecutionDataStore();\n",
    "        final SessionInfoStore sessionInfos = new SessionInfoStore();\n",
    "        data.collect(executionData, sessionInfos, false);\n",
    "        runtime.shutdown();\n",
    "\n",
    "        final CoverageBuilder coverageBuilder = new CoverageBuilder();\n",
    "        final Analyzer analyzer = new Analyzer(executionData, coverageBuilder);\n",
    "        original = getTargetClass(targetName);\n",
    "        analyzer.analyzeClass(original, targetName);\n",
    "        original.close();\n",
    "\n",
    "        for (final IClassCoverage cc : coverageBuilder.getClasses()) {\n",
    "            out.printf(\"Coverage of class %s%n\", cc.getName());\n",
    "\n",
    "            printCounter(\"instructions\", cc.getInstructionCounter());\n",
    "            printCounter(\"branches\", cc.getBranchCounter());\n",
    "            printCounter(\"lines\", cc.getLineCounter());\n",
    "            printCounter(\"methods\", cc.getMethodCounter());\n",
    "            printCounter(\"complexity\", cc.getComplexityCounter());\n",
    "\n",
    "            for (int i = cc.getFirstLine(); i <= cc.getLastLine(); i++) {\n",
    "                out.printf(\"Line %s: %s%n\", Integer.valueOf(i),\n",
    "                        getColor(cc.getLine(i).getStatus()));\n",
    "            }\n",
    "        }\n",
    "    }\n",
    "\n",
    "    private InputStream getTargetClass(final String name) {\n",
    "        final String resource = '/' + name.replace('.', '/') + \".class\";\n",
    "        return getClass().getResourceAsStream(resource);\n",
    "    }\n",
    "\n",
    "    private void printCounter(final String unit, final ICounter counter) {\n",
    "        final Integer missed = Integer.valueOf(counter.getMissedCount());\n",
    "        final Integer total = Integer.valueOf(counter.getTotalCount());\n",
    "        out.printf(\"%s of %s %s missed%n\", missed, total, unit);\n",
    "    }\n",
    "\n",
    "    private String getColor(final int status) {\n",
    "        switch (status) {\n",
    "        case ICounter.NOT_COVERED:\n",
    "            return \"red\";\n",
    "        case ICounter.PARTLY_COVERED:\n",
    "            return \"yellow\";\n",
    "        case ICounter.FULLY_COVERED:\n",
    "            return \"green\";\n",
    "        }\n",
    "        return \"\";\n",
    "    }\n",
    "\n",
    "}"
   ]
  },
  {
   "cell_type": "code",
   "execution_count": 33,
   "metadata": {},
   "outputs": [
    {
     "name": "stdout",
     "output_type": "stream",
     "text": [
      "Coverage of class REPL/$JShell$31$TestTarget\n",
      "2 of 25 instructions missed\n",
      "1 of 4 branches missed\n",
      "1 of 7 lines missed\n",
      "0 of 3 methods missed\n",
      "1 of 5 complexity missed\n",
      "Line 29: green\n",
      "Line 30: \n",
      "Line 31: \n",
      "Line 32: green\n",
      "Line 33: green\n",
      "Line 34: \n",
      "Line 35: \n",
      "Line 36: green\n",
      "Line 37: yellow\n",
      "Line 38: red\n",
      "Line 39: \n",
      "Line 40: \n",
      "Line 41: green\n"
     ]
    }
   ],
   "source": [
    "new CoreTutorial(System.out).execute(TestTarget.class);"
   ]
  },
  {
   "cell_type": "code",
   "execution_count": null,
   "metadata": {},
   "outputs": [],
   "source": []
  }
 ],
 "metadata": {
  "kernelspec": {
   "display_name": "Java",
   "language": "java",
   "name": "java"
  },
  "language_info": {
   "codemirror_mode": "java",
   "file_extension": ".jshell",
   "mimetype": "text/x-java-source",
   "name": "Java",
   "pygments_lexer": "java",
   "version": "11.0.3+7-Ubuntu-1ubuntu218.04.1"
  }
 },
 "nbformat": 4,
 "nbformat_minor": 2
}
