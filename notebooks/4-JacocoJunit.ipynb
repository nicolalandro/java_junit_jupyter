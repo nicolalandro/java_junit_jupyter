{
 "cells": [
  {
   "cell_type": "markdown",
   "metadata": {},
   "source": [
    "# Code Coverage\n",
    "In questo notebook aggiungiamo la code coverage dopo l'esecuzione dei nostri test.\n",
    "\n",
    "Iniziamo con l'installare le librerie di cui abbiamo bisogno: Jacoco e Junit."
   ]
  },
  {
   "cell_type": "code",
   "execution_count": 1,
   "metadata": {},
   "outputs": [],
   "source": [
    "%maven org.jacoco:org.jacoco.core:0.8.7\n",
    "    \n",
    "%maven junit:junit:4.13.2\n",
    "%maven org.junit.jupiter:junit-jupiter-engine:5.8.1\n",
    "%maven org.junit.platform:junit-platform-launcher:1.8.1"
   ]
  },
  {
   "cell_type": "markdown",
   "metadata": {},
   "source": [
    "## Code\n",
    "Creiamo ila classe `Factorial` che sarà poi testato"
   ]
  },
  {
   "cell_type": "code",
   "execution_count": 18,
   "metadata": {},
   "outputs": [],
   "source": [
    "public class Factorial{\n",
    "    public static int factorial( int n ){\n",
    "            int f = 1;\n",
    "\n",
    "            for(int i = 1; i <=n; i++){\n",
    "                f = f*i;\n",
    "            }\n",
    "            return f;\n",
    "    }\n",
    "}"
   ]
  },
  {
   "cell_type": "markdown",
   "metadata": {},
   "source": [
    "## Junit\n",
    "Creiamo un oggetto junit core e una funzione per printare il report dei nostri test"
   ]
  },
  {
   "cell_type": "code",
   "execution_count": 7,
   "metadata": {},
   "outputs": [],
   "source": [
    "import static org.junit.Assert.*;\n",
    "import org.junit.After;\n",
    "import org.junit.Before;\n",
    "import org.junit.Test;\n",
    "import org.junit.runner.JUnitCore;\n",
    "import org.junit.runner.Result;\n",
    "import org.junit.runner.notification.Failure;\n",
    "\n",
    "import java.util.*;\n",
    "\n",
    "\n",
    "JUnitCore junit = new JUnitCore();\n",
    "\n",
    "public static void resultReport(Result result) {\n",
    "    System.out.println(\"Finished. Result: Failures: \" +\n",
    "      result.getFailureCount() + \". Ignored: \" +\n",
    "      result.getIgnoreCount() + \". Tests run: \" +\n",
    "      result.getRunCount() + \". Time: \" +\n",
    "      result.getRunTime() + \"ms.\");\n",
    "    for (Failure f : result.getFailures()){\n",
    "        System.out.println(f. getMessage());\n",
    "        System.out.println(f. getTrace());\n",
    "    }   \n",
    "}"
   ]
  },
  {
   "cell_type": "markdown",
   "metadata": {},
   "source": [
    "Creiamo la classe `FactorialTestCase` che testa la nostra classe `Factorial`"
   ]
  },
  {
   "cell_type": "code",
   "execution_count": 16,
   "metadata": {},
   "outputs": [],
   "source": [
    "public class FactorialTestCase {\n",
    "    @Test\n",
    "    public void test_factorial_base() {\n",
    "        Factorial f = new Factorial();\n",
    "        int x = f.factorial(2);\n",
    "        \n",
    "        assertEquals(2, x);\n",
    "    }\n",
    "}"
   ]
  },
  {
   "cell_type": "markdown",
   "metadata": {},
   "source": [
    "Eseguiamo i test normalmente per assicurarci che tutto stia funzionando correttamente"
   ]
  },
  {
   "cell_type": "code",
   "execution_count": 17,
   "metadata": {},
   "outputs": [
    {
     "name": "stdout",
     "output_type": "stream",
     "text": [
      "Finished. Result: Failures: 0. Ignored: 0. Tests run: 1. Time: 0ms.\n"
     ]
    }
   ],
   "source": [
    "Result tmp_result = junit.run(FactorialTestCase.class);\n",
    "resultReport(tmp_result);"
   ]
  },
  {
   "cell_type": "markdown",
   "metadata": {},
   "source": [
    "## Jacoco\n",
    "Iniziamo la configurazione di jacoco"
   ]
  },
  {
   "cell_type": "code",
   "execution_count": 12,
   "metadata": {},
   "outputs": [],
   "source": [
    "import java.io.InputStream;\n",
    "import java.io.PrintStream;\n",
    "import java.util.HashMap;\n",
    "import java.util.Map;\n",
    "\n",
    "import org.jacoco.core.analysis.Analyzer;\n",
    "import org.jacoco.core.analysis.CoverageBuilder;\n",
    "import org.jacoco.core.analysis.IClassCoverage;\n",
    "import org.jacoco.core.analysis.ICounter;\n",
    "import org.jacoco.core.data.ExecutionDataStore;\n",
    "import org.jacoco.core.data.SessionInfoStore;\n",
    "import org.jacoco.core.instr.Instrumenter;\n",
    "import org.jacoco.core.runtime.IRuntime;\n",
    "import org.jacoco.core.runtime.LoggerRuntime;\n",
    "import org.jacoco.core.runtime.RuntimeData;"
   ]
  },
  {
   "cell_type": "code",
   "execution_count": 108,
   "metadata": {},
   "outputs": [],
   "source": [
    "public class JacocoJupyterExecutor {\n",
    "    JUnitCore junit;\n",
    "    \n",
    "    public JacocoJupyterExecutor(){\n",
    "        junit = new JUnitCore();\n",
    "    }\n",
    "    \n",
    "    public void execute(Class<?> objClass, Class<?> testClass) throws Exception {\n",
    "        String targetName = objClass.getName();\n",
    "        IRuntime runtime = new LoggerRuntime();\n",
    "        Instrumenter instr = new Instrumenter(runtime);\n",
    "        InputStream original = getTargetClass(targetName);\n",
    "        byte[] instrumented = instr.instrument(original, targetName);\n",
    "        original.close();\n",
    "\n",
    "        RuntimeData data = new RuntimeData();\n",
    "        runtime.startup(data);\n",
    "        \n",
    "        // JUNIT Test Exec\n",
    "        Result tmp_result = junit.run(testClass);\n",
    "\n",
    "        ExecutionDataStore executionData = new ExecutionDataStore();\n",
    "        SessionInfoStore sessionInfos = new SessionInfoStore();\n",
    "        data.collect(executionData, sessionInfos, false);\n",
    "        runtime.shutdown();\n",
    "\n",
    "        CoverageBuilder coverageBuilder = new CoverageBuilder();\n",
    "        Analyzer analyzer = new Analyzer(executionData, coverageBuilder);\n",
    "        original = getTargetClass(targetName);\n",
    "        analyzer.analyzeClass(original, targetName);\n",
    "        original.close();\n",
    "\n",
    "        for (final IClassCoverage cc : coverageBuilder.getClasses()) {\n",
    "            System.out.printf(\"class name:   %s%n\", cc.getName());\n",
    "            System.out.printf(\"class id:     %016x%n\", Long.valueOf(cc.getId()));\n",
    "            System.out.printf(\"\\tinstructions: %s%n\", Integer.valueOf(cc.getInstructionCounter().getTotalCount()));\n",
    "            System.out.printf(\"\\tbranches:     %s%n\", Integer.valueOf(cc.getBranchCounter().getTotalCount()));\n",
    "            System.out.printf(\"\\tlines:        %s%n\", Integer.valueOf(cc.getLineCounter().getTotalCount()));\n",
    "            System.out.printf(\"\\tmethods:      %s%n\", Integer.valueOf(cc.getMethodCounter().getTotalCount()));\n",
    "            System.out.printf(\"\\tcomplexity:   %s%n%n\", Integer.valueOf(cc.getComplexityCounter().getTotalCount()));\n",
    "            for (int i = cc.getFirstLine(); i <= cc.getLastLine(); i++) {\n",
    "                System.out.printf(\"Line %s: %s%n\", Integer.valueOf(i),\n",
    "                        getColor(cc.getLine(i).getStatus()));\n",
    "            }\n",
    "        }\n",
    "    }\n",
    "\n",
    "    private InputStream getTargetClass(final String name) {\n",
    "        final String resource = '/' + name.replace('.', '/') + \".class\";\n",
    "        return getClass().getResourceAsStream(resource);\n",
    "    }\n",
    "    \n",
    "    private String getColor(final int status) {\n",
    "        switch (status) {\n",
    "        case ICounter.NOT_COVERED:\n",
    "            return \"red\";\n",
    "        case ICounter.PARTLY_COVERED:\n",
    "            return \"yellow\";\n",
    "        case ICounter.FULLY_COVERED:\n",
    "            return \"green\";\n",
    "        }\n",
    "        return \"\";\n",
    "    }\n",
    "\n",
    "}"
   ]
  },
  {
   "cell_type": "code",
   "execution_count": 109,
   "metadata": {},
   "outputs": [],
   "source": [
    "JacocoJupyterExecutor jacocoRunner = new JacocoJupyterExecutor();"
   ]
  },
  {
   "cell_type": "code",
   "execution_count": 110,
   "metadata": {},
   "outputs": [
    {
     "name": "stdout",
     "output_type": "stream",
     "text": [
      "class name:   REPL/$JShell$52$Factorial\n",
      "class id:     ace81003562f93ee\n",
      "\tinstructions: 18\n",
      "\tbranches:     2\n",
      "\tlines:        5\n",
      "\tmethods:      2\n",
      "\tcomplexity:   3\n",
      "\n",
      "Line 37: red\n",
      "Line 38: \n",
      "Line 39: red\n",
      "Line 40: \n",
      "Line 41: red\n",
      "Line 42: red\n",
      "Line 43: \n",
      "Line 44: red\n"
     ]
    }
   ],
   "source": [
    "jacocoRunner.execute(Factorial.class, FactorialTestCase.class)"
   ]
  }
 ],
 "metadata": {
  "kernelspec": {
   "display_name": "Java",
   "language": "java",
   "name": "java"
  },
  "language_info": {
   "codemirror_mode": "java",
   "file_extension": ".jshell",
   "mimetype": "text/x-java-source",
   "name": "Java",
   "pygments_lexer": "java",
   "version": "11.0.3+7-Ubuntu-1ubuntu218.04.1"
  }
 },
 "nbformat": 4,
 "nbformat_minor": 2
}
