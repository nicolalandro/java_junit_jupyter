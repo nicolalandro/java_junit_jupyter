{
 "cells": [
  {
   "cell_type": "markdown",
   "metadata": {},
   "source": [
    "# Esercizio 1\n",
    "Fare una funzione che prende in input un numero e restituisce una stringa con il numero se esso non è divisibile per due, altrimenti restituisce \"Fizz\".\n",
    "\n",
    "Esempio f(1) = \"1\", f(2) = \"fizz\", f(3) = 3 ...\n",
    "\n",
    "Scrivere anche i test in JUnit."
   ]
  },
  {
   "cell_type": "markdown",
   "metadata": {},
   "source": [
    "# Esercizio 1.1\n",
    "Al codice dell'esercizio 1 aggiungere la parola \"buzz\" quando i numeri sono divisibili per 3.\n",
    "\n",
    "Esempio f(1) = \"1\", f(2) = \"fizz\", f(3) = \"buzz\" ...\n",
    "\n",
    "Scrivere anche i test in JUnit."
   ]
  },
  {
   "cell_type": "markdown",
   "metadata": {},
   "source": [
    "# Esercizio 1.2\n",
    "Al codice dell'esercizio 1.1 restituire \"fizzbuzz\" se il numero è divisibile sia per 3 che per 2.\n",
    "\n",
    "Esempio f(1) = \"1\", f(2) = \"fizz\", f(3) = \"buzz\" f(6) = \"fizzbuzz\"\n",
    "\n",
    "Scrivere anche i test in JUnit."
   ]
  },
  {
   "cell_type": "markdown",
   "metadata": {},
   "source": [
    "# Esercizio 2\n",
    "Esiste un ogetto `Logger` con i metodi `info(\"string\")` e `debug(\"string\")`, il nostro codice dovrà prendendo in input il logger e una lista di stringhe, dovra fare una call ad `info` con scritto \"start\" all'inizio, poi un altra con scritto \"end\" alla fine, dopo di che dovrà fare una call a `debug` per ogni stringa.\n",
    "\n",
    "Testare il tutto con JUnit e Mockyto"
   ]
  },
  {
   "cell_type": "markdown",
   "metadata": {},
   "source": [
    "# Esercizio 3\n",
    "Esiste un oggetto `BoolRand` che con il metodo `rand` restituisce randomicamente `true` o `false`. Scrivere un ogetto che ha un metodo `generate` che usa `BoolRand` e restituisce 0 se `rand` restituisce `false` altrimenti restituisce un numero random tra 1 e 5.\n",
    "\n",
    "Testare il tutto con JUnit e Mockyto"
   ]
  }
 ],
 "metadata": {
  "kernelspec": {
   "display_name": "Java",
   "language": "java",
   "name": "java"
  },
  "language_info": {
   "codemirror_mode": "java",
   "file_extension": ".jshell",
   "mimetype": "text/x-java-source",
   "name": "Java",
   "pygments_lexer": "java",
   "version": "11.0.3+7-Ubuntu-1ubuntu218.04.1"
  }
 },
 "nbformat": 4,
 "nbformat_minor": 2
}
