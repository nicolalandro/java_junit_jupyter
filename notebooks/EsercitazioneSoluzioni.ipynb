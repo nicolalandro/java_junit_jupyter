{
 "cells": [
  {
   "cell_type": "code",
   "execution_count": 1,
   "metadata": {},
   "outputs": [],
   "source": [
    "%maven junit:junit:4.13.2\n",
    "%maven org.junit.jupiter:junit-jupiter-engine:5.8.1\n",
    "%maven org.junit.platform:junit-platform-launcher:1.8.1\n",
    "%maven org.mockito:mockito-all:1.10.19"
   ]
  },
  {
   "cell_type": "code",
   "execution_count": 2,
   "metadata": {},
   "outputs": [],
   "source": [
    "import static org.junit.Assert.*;\n",
    "import org.junit.After;\n",
    "import org.junit.Before;\n",
    "import org.junit.Test;\n",
    "import org.junit.runner.JUnitCore;\n",
    "import org.junit.runner.Result;\n",
    "import org.junit.runner.notification.Failure;\n",
    "\n",
    "import static org.mockito.Mockito.*;\n",
    "\n",
    "import java.util.*;\n",
    "\n",
    "\n",
    "JUnitCore junit = new JUnitCore();\n",
    "\n",
    "public static void resultReport(Result result) {\n",
    "    System.out.println(\"Finished. Result: Failures: \" +\n",
    "      result.getFailureCount() + \". Ignored: \" +\n",
    "      result.getIgnoreCount() + \". Tests run: \" +\n",
    "      result.getRunCount() + \". Time: \" +\n",
    "      result.getRunTime() + \"ms.\");\n",
    "    for (Failure f : result.getFailures()){\n",
    "        System.out.println(f. getMessage());\n",
    "        System.out.println(f. getTrace());\n",
    "    }   \n",
    "}"
   ]
  },
  {
   "cell_type": "markdown",
   "metadata": {},
   "source": [
    "# Esercizio 1\n",
    "Fare una funzione che prende in input un numero e restituisce una stringa con il numero se esso non è divisibile per due, altrimenti restituisce \"Fizz\".\n",
    "\n",
    "Esempio f(1) = \"1\", f(2) = \"fizz\", f(3) = 3 ...\n",
    "\n",
    "Scrivere anche i test in JUnit."
   ]
  },
  {
   "cell_type": "code",
   "execution_count": 3,
   "metadata": {},
   "outputs": [
    {
     "name": "stdout",
     "output_type": "stream",
     "text": [
      "1\n",
      "fizz\n",
      "3\n",
      "fizz\n",
      "5\n",
      "fizz\n"
     ]
    }
   ],
   "source": [
    "public static String fizzer(Integer a){\n",
    "    if (a%2 == 0){\n",
    "        return \"fizz\";\n",
    "    }\n",
    "    return a.toString();\n",
    "}\n",
    "\n",
    "for (int i=1; i< 7; i++){\n",
    "    System.out.println(fizzer(i));\n",
    "}"
   ]
  },
  {
   "cell_type": "code",
   "execution_count": 4,
   "metadata": {},
   "outputs": [],
   "source": [
    "public class FizzerTestCase {\n",
    "    @Test\n",
    "    public void test_numeri_pari() {\n",
    "        String ret = fizzer(2);\n",
    "        assertEquals(\"fizz\", ret);\n",
    "        String ret2 = fizzer(6);\n",
    "        assertEquals(\"fizz\", ret2);\n",
    "    }\n",
    "    @Test\n",
    "    public void test_numeri_dispari() {\n",
    "        String ret = fizzer(3);\n",
    "        assertEquals(\"3\", ret);\n",
    "        String ret2 = fizzer(5);\n",
    "        assertEquals(\"5\", ret2);\n",
    "    }\n",
    "}"
   ]
  },
  {
   "cell_type": "code",
   "execution_count": 5,
   "metadata": {},
   "outputs": [
    {
     "name": "stdout",
     "output_type": "stream",
     "text": [
      "Finished. Result: Failures: 0. Ignored: 0. Tests run: 2. Time: 6ms.\n"
     ]
    }
   ],
   "source": [
    "resultReport(junit.run(FizzerTestCase.class));"
   ]
  },
  {
   "cell_type": "markdown",
   "metadata": {},
   "source": [
    "# Esercizio 1.1\n",
    "Al codice dell'esercizio 1 aggiungere la parola \"buzz\" quando i numeri sono divisibili per 3. Se sono divisibili sia per 2 che per 3 printare fizz.\n",
    "\n",
    "Esempio f(1) = \"1\", f(2) = \"fizz\", f(3) = \"buzz\" ...\n",
    "\n",
    "Scrivere anche i test in JUnit."
   ]
  },
  {
   "cell_type": "code",
   "execution_count": 6,
   "metadata": {},
   "outputs": [
    {
     "name": "stdout",
     "output_type": "stream",
     "text": [
      "1\n",
      "fizz\n",
      "buzz\n",
      "fizz\n",
      "5\n",
      "fizz\n"
     ]
    }
   ],
   "source": [
    "public static String fizzBuzzer(Integer a){\n",
    "    if (a%2 == 0){\n",
    "        return \"fizz\";\n",
    "    }\n",
    "    else if (a%3 == 0){\n",
    "        return \"buzz\";\n",
    "    }\n",
    "    return a.toString();\n",
    "}\n",
    "\n",
    "for (int i=1; i< 7; i++){\n",
    "    System.out.println(fizzBuzzer(i));\n",
    "}"
   ]
  },
  {
   "cell_type": "code",
   "execution_count": 7,
   "metadata": {},
   "outputs": [],
   "source": [
    "public class FizzBuzzerTestCase {\n",
    "    @Test\n",
    "    public void test_numeri_pari() {\n",
    "        String ret = fizzBuzzer(2);\n",
    "        assertEquals(\"fizz\", ret);\n",
    "        String ret2 = fizzBuzzer(6);\n",
    "        assertEquals(\"fizz\", ret2);\n",
    "    }\n",
    "    @Test\n",
    "    public void test_numeri_divisibili_per_3() {\n",
    "        String ret = fizzBuzzer(3);\n",
    "        assertEquals(\"buzz\", ret);\n",
    "        String ret2 = fizzBuzzer(9);\n",
    "        assertEquals(\"buzz\", ret2);\n",
    "    }\n",
    "    @Test\n",
    "    public void test_altri_numeri() {\n",
    "        String ret = fizzBuzzer(17);\n",
    "        assertEquals(\"17\", ret);\n",
    "        String ret2 = fizzBuzzer(5);\n",
    "        assertEquals(\"5\", ret2);\n",
    "    }\n",
    "}"
   ]
  },
  {
   "cell_type": "code",
   "execution_count": 8,
   "metadata": {},
   "outputs": [
    {
     "name": "stdout",
     "output_type": "stream",
     "text": [
      "Finished. Result: Failures: 0. Ignored: 0. Tests run: 3. Time: 1ms.\n"
     ]
    }
   ],
   "source": [
    "resultReport(junit.run(FizzBuzzerTestCase.class));"
   ]
  },
  {
   "cell_type": "markdown",
   "metadata": {},
   "source": [
    "# Esercizio 1.2\n",
    "Al codice dell'esercizio 1.1 restituire \"fizzbuzz\" se il numero è divisibile sia per 3 che per 2.\n",
    "\n",
    "Esempio f(1) = \"1\", f(2) = \"fizz\", f(3) = \"buzz\" f(6) = \"fizzbuzz\"\n",
    "\n",
    "Scrivere anche i test in JUnit."
   ]
  },
  {
   "cell_type": "code",
   "execution_count": 9,
   "metadata": {},
   "outputs": [
    {
     "name": "stdout",
     "output_type": "stream",
     "text": [
      "1\n",
      "fizz\n",
      "buzz\n",
      "fizz\n",
      "5\n",
      "fizzbuzz\n"
     ]
    }
   ],
   "source": [
    "public class Stringer{\n",
    "    int number;\n",
    "    String string;\n",
    "    public Stringer(int n, String s){\n",
    "        number = n;\n",
    "        string = s;\n",
    "    }\n",
    "    public String transform(int n){\n",
    "        if (n%number == 0){\n",
    "            return string;\n",
    "        }\n",
    "        return \"\";\n",
    "    }\n",
    "}\n",
    "\n",
    "public static String fizzBuzzerCompleto(Integer a){\n",
    "    List<Stringer> stringers = Arrays.asList(new Stringer(2, \"fizz\"), new Stringer(3, \"buzz\"));\n",
    "    String out = \"\";\n",
    "    \n",
    "    for (Stringer s : stringers){\n",
    "        out += s.transform(a);\n",
    "    }\n",
    "    if (out.isEmpty()){\n",
    "        out = a.toString();\n",
    "    }\n",
    "    \n",
    "    return out;\n",
    "}\n",
    "\n",
    "for (int i=1; i< 7; i++){\n",
    "    System.out.println(fizzBuzzerCompleto(i));\n",
    "}"
   ]
  },
  {
   "cell_type": "code",
   "execution_count": 10,
   "metadata": {},
   "outputs": [],
   "source": [
    "public class StringerTestCase {\n",
    "    @Test\n",
    "    public void test_stringer() {\n",
    "        Stringer st = new Stringer(250, \"pippo\");\n",
    "        \n",
    "        String s = st.transform(250*2);\n",
    "        assertEquals(\"pippo\", s.trim());\n",
    "        \n",
    "        s = st.transform(5);\n",
    "        assertEquals(\"\", s.trim());\n",
    "    }\n",
    "    @Test\n",
    "    public void test_stringer_different() {\n",
    "        Stringer st = new Stringer(17, \"xx\");\n",
    "        \n",
    "        String s = st.transform(289);\n",
    "        assertEquals(\"xx\", s.trim());\n",
    "        \n",
    "        s = st.transform(12);\n",
    "        assertEquals(\"\", s.trim());\n",
    "    }\n",
    "}\n",
    "\n",
    "public class FizzBuzzerCompletoTestCase {\n",
    "    @Test\n",
    "    public void test_numeri_pari() {\n",
    "        String ret = fizzBuzzerCompleto(2);\n",
    "        assertEquals(\"fizz\", ret);\n",
    "        String ret2 = fizzBuzzerCompleto(8);\n",
    "        assertEquals(\"fizz\", ret2);\n",
    "    }\n",
    "    @Test\n",
    "    public void test_numeri_divisibili_per_3() {\n",
    "        String ret = fizzBuzzerCompleto(3);\n",
    "        assertEquals(\"buzz\", ret);\n",
    "        String ret2 = fizzBuzzerCompleto(9);\n",
    "        assertEquals(\"buzz\", ret2);\n",
    "    }\n",
    "    @Test\n",
    "    public void test_numeri_divisibili_per_3_e_2() {\n",
    "        String ret = fizzBuzzerCompleto(6);\n",
    "        assertEquals(\"fizzbuzz\", ret);\n",
    "        String ret2 = fizzBuzzerCompleto(12);\n",
    "        assertEquals(\"fizzbuzz\", ret2);\n",
    "    }\n",
    "    @Test\n",
    "    public void test_altri_numeri() {\n",
    "        String ret = fizzBuzzerCompleto(17);\n",
    "        assertEquals(\"17\", ret);\n",
    "        String ret2 = fizzBuzzerCompleto(5);\n",
    "        assertEquals(\"5\", ret2);\n",
    "    }\n",
    "}"
   ]
  },
  {
   "cell_type": "code",
   "execution_count": 11,
   "metadata": {},
   "outputs": [
    {
     "name": "stdout",
     "output_type": "stream",
     "text": [
      "Finished. Result: Failures: 0. Ignored: 0. Tests run: 6. Time: 0ms.\n"
     ]
    }
   ],
   "source": [
    "resultReport(junit.run(FizzBuzzerCompletoTestCase.class, StringerTestCase.class));"
   ]
  },
  {
   "cell_type": "markdown",
   "metadata": {},
   "source": [
    "# Esercizio 2\n",
    "Esiste un ogetto `Logger` con i metodi `info(\"string\")` e `debug(\"string\")`, il nostro codice dovrà prendendo in input il logger e una lista di stringhe, dovra fare una call ad `info` con scritto \"start\" all'inizio, poi un altra con scritto \"end\" alla fine, dopo di che dovrà fare una call a `debug` per ogni stringa.\n",
    "\n",
    "Testare il tutto con JUnit e Mockyto"
   ]
  },
  {
   "cell_type": "code",
   "execution_count": 12,
   "metadata": {},
   "outputs": [],
   "source": [
    "public class Logger{\n",
    "    public void info(String msg){}\n",
    "    public void debug(String msg){}\n",
    "}\n",
    "public static void funzione(Logger l, List<String>  s){\n",
    "    l.info(\"start\");\n",
    "    for (String st: s){\n",
    "        l.debug(st);\n",
    "    }\n",
    "    l.info(\"end\");\n",
    "}"
   ]
  },
  {
   "cell_type": "code",
   "execution_count": 13,
   "metadata": {},
   "outputs": [],
   "source": [
    "public class FunzioneTestCase {\n",
    "    @Test\n",
    "    public void test_funzione() {\n",
    "        Logger lMock = mock(Logger.class);\n",
    "        List<String> list = Arrays.asList(\"a\", \"b\");\n",
    "        \n",
    "        funzione(lMock, list);\n",
    "        \n",
    "        verify(lMock, times(2)).info(anyString());\n",
    "        verify(lMock, times(2)).debug(anyString());\n",
    "        verify(lMock, times(1)).info(\"start\");\n",
    "        verify(lMock, times(1)).info(\"end\");\n",
    "        verify(lMock, times(1)).debug(\"a\");\n",
    "        verify(lMock, times(1)).debug(\"b\");\n",
    "    }\n",
    "}"
   ]
  },
  {
   "cell_type": "code",
   "execution_count": 14,
   "metadata": {},
   "outputs": [
    {
     "name": "stdout",
     "output_type": "stream",
     "text": [
      "Finished. Result: Failures: 0. Ignored: 0. Tests run: 1. Time: 613ms.\n"
     ]
    }
   ],
   "source": [
    "resultReport(junit.run(FunzioneTestCase.class));"
   ]
  },
  {
   "cell_type": "markdown",
   "metadata": {},
   "source": [
    "# Esercizio 3\n",
    "Esiste un oggetto `BoolRand` che con il metodo `rand` restituisce randomicamente `true` o `false`. Scrivere un ogetto che ha un metodo `generate` che usa `BoolRand` e restituisce 0 se `rand` restituisce `false` altrimenti restituisce un numero random tra 1 e 5.\n",
    "\n",
    "Testare il tutto con JUnit e Mockyto"
   ]
  },
  {
   "cell_type": "code",
   "execution_count": 21,
   "metadata": {},
   "outputs": [],
   "source": [
    "public class BoolRand{\n",
    "    public Boolean rand(){return null;}\n",
    "}"
   ]
  },
  {
   "cell_type": "code",
   "execution_count": 22,
   "metadata": {},
   "outputs": [],
   "source": [
    "import static java.lang.Math.random;\n",
    "\n",
    "public class RandMaybe{\n",
    "    BoolRand br;\n",
    "    int MIN = 1;\n",
    "    int MAX = 5;\n",
    "    \n",
    "    public RandMaybe(BoolRand b){\n",
    "        br = b;\n",
    "    }\n",
    "    public Integer generate(){\n",
    "        if (br.rand() == false){return 0;}\n",
    "        return (int) (Math.random() * ( MAX - MIN ));\n",
    "    }\n",
    "}"
   ]
  },
  {
   "cell_type": "code",
   "execution_count": 34,
   "metadata": {},
   "outputs": [],
   "source": [
    "public class RandMaybeTestCase {\n",
    "    @Test\n",
    "    public void test_generate_with_bool_false() {\n",
    "        BoolRand bMock = mock(BoolRand.class);\n",
    "        when(bMock.rand()).thenReturn(false);\n",
    "        \n",
    "        RandMaybe rm = new RandMaybe(bMock);\n",
    "        int i = rm.generate();\n",
    "        assertEquals(0, i);\n",
    "    }\n",
    "    @Test\n",
    "    public void test_generate_with_bool_true() {\n",
    "        BoolRand bMock = mock(BoolRand.class);\n",
    "        when(bMock.rand()).thenReturn(true);\n",
    "        \n",
    "        RandMaybe rm = new RandMaybe(bMock);\n",
    "        \n",
    "        int i = rm.generate();\n",
    "        assertTrue(i >= 1);\n",
    "        assertTrue(i <= 5);\n",
    "    }\n",
    "}"
   ]
  },
  {
   "cell_type": "code",
   "execution_count": 37,
   "metadata": {},
   "outputs": [
    {
     "name": "stdout",
     "output_type": "stream",
     "text": [
      "Finished. Result: Failures: 0. Ignored: 0. Tests run: 2. Time: 1ms.\n"
     ]
    }
   ],
   "source": [
    "resultReport(junit.run(RandMaybeTestCase.class));"
   ]
  }
 ],
 "metadata": {
  "kernelspec": {
   "display_name": "Java",
   "language": "java",
   "name": "java"
  },
  "language_info": {
   "codemirror_mode": "java",
   "file_extension": ".jshell",
   "mimetype": "text/x-java-source",
   "name": "Java",
   "pygments_lexer": "java",
   "version": "11.0.3+7-Ubuntu-1ubuntu218.04.1"
  }
 },
 "nbformat": 4,
 "nbformat_minor": 2
}
