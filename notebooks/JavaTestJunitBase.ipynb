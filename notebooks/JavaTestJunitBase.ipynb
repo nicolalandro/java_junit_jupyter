{
 "cells": [
  {
   "cell_type": "code",
   "execution_count": 1,
   "metadata": {},
   "outputs": [],
   "source": [
    "%maven junit:junit:4.13.2\n",
    "%maven org.junit.jupiter:junit-jupiter-engine:5.8.1\n",
    "%maven org.junit.platform:junit-platform-launcher:1.8.1"
   ]
  },
  {
   "cell_type": "code",
   "execution_count": 2,
   "metadata": {},
   "outputs": [],
   "source": [
    "import static org.junit.Assert.*;\n",
    "import org.junit.After;\n",
    "import org.junit.Before;\n",
    "import org.junit.Test;\n",
    "import org.junit.runner.JUnitCore;\n",
    "import org.junit.runner.Result;\n",
    "import org.junit.runner.notification.Failure;"
   ]
  },
  {
   "cell_type": "code",
   "execution_count": 3,
   "metadata": {},
   "outputs": [],
   "source": [
    "JUnitCore junit = new JUnitCore();\n",
    "\n",
    "public static void resultReport(Result result) {\n",
    "    System.out.println(\"Finished. Result: Failures: \" +\n",
    "      result.getFailureCount() + \". Ignored: \" +\n",
    "      result.getIgnoreCount() + \". Tests run: \" +\n",
    "      result.getRunCount() + \". Time: \" +\n",
    "      result.getRunTime() + \"ms.\");\n",
    "    for (Failure f : result.getFailures()){\n",
    "        System.out.println(f.getMessage());\n",
    "    }   \n",
    "}"
   ]
  },
  {
   "cell_type": "code",
   "execution_count": 5,
   "metadata": {},
   "outputs": [],
   "source": [
    "public static int factorial( int n ){\n",
    "        int f = 1;\n",
    "\n",
    "        for(int i = 1; i <=n; i++){\n",
    "            f = f*i;\n",
    "        }\n",
    "        return f;\n",
    "}"
   ]
  },
  {
   "cell_type": "code",
   "execution_count": 6,
   "metadata": {},
   "outputs": [],
   "source": [
    "public class FactorialTestCase {\n",
    "    @Test\n",
    "    public void test_factorial_base() {\n",
    "        int x = factorial(2);\n",
    "        \n",
    "        assertEquals(2, x);\n",
    "    }\n",
    "}"
   ]
  },
  {
   "cell_type": "code",
   "execution_count": 7,
   "metadata": {},
   "outputs": [
    {
     "name": "stdout",
     "output_type": "stream",
     "text": [
      "Finished. Result: Failures: 0. Ignored: 0. Tests run: 1. Time: 10ms.\n"
     ]
    }
   ],
   "source": [
    "resultReport(junit.run(FactorialTestCase.class));"
   ]
  },
  {
   "cell_type": "code",
   "execution_count": null,
   "metadata": {},
   "outputs": [],
   "source": []
  }
 ],
 "metadata": {
  "kernelspec": {
   "display_name": "Java",
   "language": "java",
   "name": "java"
  },
  "language_info": {
   "codemirror_mode": "java",
   "file_extension": ".jshell",
   "mimetype": "text/x-java-source",
   "name": "Java",
   "pygments_lexer": "java",
   "version": "11.0.3+7-Ubuntu-1ubuntu218.04.1"
  }
 },
 "nbformat": 4,
 "nbformat_minor": 2
}
